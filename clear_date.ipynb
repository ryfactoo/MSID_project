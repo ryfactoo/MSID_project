{
 "cells": [
  {
   "cell_type": "markdown",
   "source": [
    "wgranie bazy"
   ],
   "metadata": {
    "collapsed": false
   }
  },
  {
   "cell_type": "code",
   "execution_count": 10,
   "outputs": [
    {
     "data": {
      "text/plain": "                id           publishedAt  viewCount  commentCount  likeCount   \n0      WBniggluAe8  2023-05-14T16:08:26Z  1954852.0        4022.0   134012.0  \\\n1      wycmfVWKWlw  2023-04-29T00:42:11Z  2490816.0        4463.0   187305.0   \n2      mNHgVZPlh5g  2023-03-31T22:46:42Z  2206284.0        4406.0   141393.0   \n3      XdwaASKJGxo  2023-03-14T16:00:30Z  2735952.0        5849.0   127953.0   \n4      BEXqDQ6X5hM  2023-03-10T18:00:08Z  2705155.0        3978.0   139607.0   \n...            ...                   ...        ...           ...        ...   \n26960  4l_HuMMgyo4  2012-06-12T14:41:51Z    27921.0           0.0       38.0   \n26961  RcYtzUVR6is  2012-06-12T08:10:49Z     9561.0           0.0       22.0   \n26962  bygSHVeH_Zc  2012-06-12T06:18:53Z   116046.0          52.0      266.0   \n26963  oql8TymoDXM  2012-06-11T07:57:07Z      581.0           2.0        5.0   \n26964  huRBAY4Fys8  2012-06-11T07:53:23Z     4660.0           0.0        6.0   \n\n       madeForKids  duration  categoryId  \n0            False  PT15M49S          24  \n1            False  PT14M48S          24  \n2            False   PT9M53S          24  \n3            False  PT1H3M3S          24  \n4            False  PT18M33S          24  \n...            ...       ...         ...  \n26960        False   PT1M40S           2  \n26961        False   PT1M22S           2  \n26962        False   PT3M24S           2  \n26963        False   PT8M48S           2  \n26964        False   PT2M57S           2  \n\n[26965 rows x 8 columns]",
      "text/html": "<div>\n<style scoped>\n    .dataframe tbody tr th:only-of-type {\n        vertical-align: middle;\n    }\n\n    .dataframe tbody tr th {\n        vertical-align: top;\n    }\n\n    .dataframe thead th {\n        text-align: right;\n    }\n</style>\n<table border=\"1\" class=\"dataframe\">\n  <thead>\n    <tr style=\"text-align: right;\">\n      <th></th>\n      <th>id</th>\n      <th>publishedAt</th>\n      <th>viewCount</th>\n      <th>commentCount</th>\n      <th>likeCount</th>\n      <th>madeForKids</th>\n      <th>duration</th>\n      <th>categoryId</th>\n    </tr>\n  </thead>\n  <tbody>\n    <tr>\n      <th>0</th>\n      <td>WBniggluAe8</td>\n      <td>2023-05-14T16:08:26Z</td>\n      <td>1954852.0</td>\n      <td>4022.0</td>\n      <td>134012.0</td>\n      <td>False</td>\n      <td>PT15M49S</td>\n      <td>24</td>\n    </tr>\n    <tr>\n      <th>1</th>\n      <td>wycmfVWKWlw</td>\n      <td>2023-04-29T00:42:11Z</td>\n      <td>2490816.0</td>\n      <td>4463.0</td>\n      <td>187305.0</td>\n      <td>False</td>\n      <td>PT14M48S</td>\n      <td>24</td>\n    </tr>\n    <tr>\n      <th>2</th>\n      <td>mNHgVZPlh5g</td>\n      <td>2023-03-31T22:46:42Z</td>\n      <td>2206284.0</td>\n      <td>4406.0</td>\n      <td>141393.0</td>\n      <td>False</td>\n      <td>PT9M53S</td>\n      <td>24</td>\n    </tr>\n    <tr>\n      <th>3</th>\n      <td>XdwaASKJGxo</td>\n      <td>2023-03-14T16:00:30Z</td>\n      <td>2735952.0</td>\n      <td>5849.0</td>\n      <td>127953.0</td>\n      <td>False</td>\n      <td>PT1H3M3S</td>\n      <td>24</td>\n    </tr>\n    <tr>\n      <th>4</th>\n      <td>BEXqDQ6X5hM</td>\n      <td>2023-03-10T18:00:08Z</td>\n      <td>2705155.0</td>\n      <td>3978.0</td>\n      <td>139607.0</td>\n      <td>False</td>\n      <td>PT18M33S</td>\n      <td>24</td>\n    </tr>\n    <tr>\n      <th>...</th>\n      <td>...</td>\n      <td>...</td>\n      <td>...</td>\n      <td>...</td>\n      <td>...</td>\n      <td>...</td>\n      <td>...</td>\n      <td>...</td>\n    </tr>\n    <tr>\n      <th>26960</th>\n      <td>4l_HuMMgyo4</td>\n      <td>2012-06-12T14:41:51Z</td>\n      <td>27921.0</td>\n      <td>0.0</td>\n      <td>38.0</td>\n      <td>False</td>\n      <td>PT1M40S</td>\n      <td>2</td>\n    </tr>\n    <tr>\n      <th>26961</th>\n      <td>RcYtzUVR6is</td>\n      <td>2012-06-12T08:10:49Z</td>\n      <td>9561.0</td>\n      <td>0.0</td>\n      <td>22.0</td>\n      <td>False</td>\n      <td>PT1M22S</td>\n      <td>2</td>\n    </tr>\n    <tr>\n      <th>26962</th>\n      <td>bygSHVeH_Zc</td>\n      <td>2012-06-12T06:18:53Z</td>\n      <td>116046.0</td>\n      <td>52.0</td>\n      <td>266.0</td>\n      <td>False</td>\n      <td>PT3M24S</td>\n      <td>2</td>\n    </tr>\n    <tr>\n      <th>26963</th>\n      <td>oql8TymoDXM</td>\n      <td>2012-06-11T07:57:07Z</td>\n      <td>581.0</td>\n      <td>2.0</td>\n      <td>5.0</td>\n      <td>False</td>\n      <td>PT8M48S</td>\n      <td>2</td>\n    </tr>\n    <tr>\n      <th>26964</th>\n      <td>huRBAY4Fys8</td>\n      <td>2012-06-11T07:53:23Z</td>\n      <td>4660.0</td>\n      <td>0.0</td>\n      <td>6.0</td>\n      <td>False</td>\n      <td>PT2M57S</td>\n      <td>2</td>\n    </tr>\n  </tbody>\n</table>\n<p>26965 rows × 8 columns</p>\n</div>"
     },
     "metadata": {},
     "output_type": "display_data"
    }
   ],
   "source": [
    "import pandas as pd\n",
    "import numpy as np\n",
    "from datetime import datetime\n",
    "import pytz\n",
    "import isodate\n",
    "dane = pd.read_csv(r'D:\\Studia\\4 semestr\\MSID\\L\\Projekt MSID\\datebase_yt\\merged_select_category.csv')\n",
    "dane.tail()\n",
    "display(dane)"
   ],
   "metadata": {
    "collapsed": false
   }
  },
  {
   "cell_type": "markdown",
   "source": [
    "wypełnienie brakujących danych  likeCount tymaczasowo jako -1\n",
    "a commentCount jako 0, i usuniecie rekordów z brakiem danych w viewCount ponieważ jest tylko 1 taki"
   ],
   "metadata": {
    "collapsed": false
   }
  },
  {
   "cell_type": "code",
   "execution_count": 12,
   "outputs": [
    {
     "name": "stdout",
     "output_type": "stream",
     "text": [
      "1437\n",
      "1\n",
      "33\n"
     ]
    }
   ],
   "source": [
    "print(dane['commentCount'].isnull().sum())\n",
    "print(dane['viewCount'].isnull().sum())\n",
    "print(dane['likeCount'].isnull().sum())"
   ],
   "metadata": {
    "collapsed": false
   }
  },
  {
   "cell_type": "code",
   "execution_count": 13,
   "outputs": [],
   "source": [
    "dane = dane.dropna(subset=['viewCount'])"
   ],
   "metadata": {
    "collapsed": false
   }
  },
  {
   "cell_type": "code",
   "execution_count": 14,
   "outputs": [
    {
     "data": {
      "text/plain": "                id           publishedAt  viewCount  commentCount  likeCount   \n0      WBniggluAe8  2023-05-14T16:08:26Z  1954852.0        4022.0   134012.0  \\\n1      wycmfVWKWlw  2023-04-29T00:42:11Z  2490816.0        4463.0   187305.0   \n2      mNHgVZPlh5g  2023-03-31T22:46:42Z  2206284.0        4406.0   141393.0   \n3      XdwaASKJGxo  2023-03-14T16:00:30Z  2735952.0        5849.0   127953.0   \n4      BEXqDQ6X5hM  2023-03-10T18:00:08Z  2705155.0        3978.0   139607.0   \n...            ...                   ...        ...           ...        ...   \n26960  4l_HuMMgyo4  2012-06-12T14:41:51Z    27921.0           0.0       38.0   \n26961  RcYtzUVR6is  2012-06-12T08:10:49Z     9561.0           0.0       22.0   \n26962  bygSHVeH_Zc  2012-06-12T06:18:53Z   116046.0          52.0      266.0   \n26963  oql8TymoDXM  2012-06-11T07:57:07Z      581.0           2.0        5.0   \n26964  huRBAY4Fys8  2012-06-11T07:53:23Z     4660.0           0.0        6.0   \n\n       madeForKids  duration  categoryId  \n0            False  PT15M49S          24  \n1            False  PT14M48S          24  \n2            False   PT9M53S          24  \n3            False  PT1H3M3S          24  \n4            False  PT18M33S          24  \n...            ...       ...         ...  \n26960        False   PT1M40S           2  \n26961        False   PT1M22S           2  \n26962        False   PT3M24S           2  \n26963        False   PT8M48S           2  \n26964        False   PT2M57S           2  \n\n[26964 rows x 8 columns]",
      "text/html": "<div>\n<style scoped>\n    .dataframe tbody tr th:only-of-type {\n        vertical-align: middle;\n    }\n\n    .dataframe tbody tr th {\n        vertical-align: top;\n    }\n\n    .dataframe thead th {\n        text-align: right;\n    }\n</style>\n<table border=\"1\" class=\"dataframe\">\n  <thead>\n    <tr style=\"text-align: right;\">\n      <th></th>\n      <th>id</th>\n      <th>publishedAt</th>\n      <th>viewCount</th>\n      <th>commentCount</th>\n      <th>likeCount</th>\n      <th>madeForKids</th>\n      <th>duration</th>\n      <th>categoryId</th>\n    </tr>\n  </thead>\n  <tbody>\n    <tr>\n      <th>0</th>\n      <td>WBniggluAe8</td>\n      <td>2023-05-14T16:08:26Z</td>\n      <td>1954852.0</td>\n      <td>4022.0</td>\n      <td>134012.0</td>\n      <td>False</td>\n      <td>PT15M49S</td>\n      <td>24</td>\n    </tr>\n    <tr>\n      <th>1</th>\n      <td>wycmfVWKWlw</td>\n      <td>2023-04-29T00:42:11Z</td>\n      <td>2490816.0</td>\n      <td>4463.0</td>\n      <td>187305.0</td>\n      <td>False</td>\n      <td>PT14M48S</td>\n      <td>24</td>\n    </tr>\n    <tr>\n      <th>2</th>\n      <td>mNHgVZPlh5g</td>\n      <td>2023-03-31T22:46:42Z</td>\n      <td>2206284.0</td>\n      <td>4406.0</td>\n      <td>141393.0</td>\n      <td>False</td>\n      <td>PT9M53S</td>\n      <td>24</td>\n    </tr>\n    <tr>\n      <th>3</th>\n      <td>XdwaASKJGxo</td>\n      <td>2023-03-14T16:00:30Z</td>\n      <td>2735952.0</td>\n      <td>5849.0</td>\n      <td>127953.0</td>\n      <td>False</td>\n      <td>PT1H3M3S</td>\n      <td>24</td>\n    </tr>\n    <tr>\n      <th>4</th>\n      <td>BEXqDQ6X5hM</td>\n      <td>2023-03-10T18:00:08Z</td>\n      <td>2705155.0</td>\n      <td>3978.0</td>\n      <td>139607.0</td>\n      <td>False</td>\n      <td>PT18M33S</td>\n      <td>24</td>\n    </tr>\n    <tr>\n      <th>...</th>\n      <td>...</td>\n      <td>...</td>\n      <td>...</td>\n      <td>...</td>\n      <td>...</td>\n      <td>...</td>\n      <td>...</td>\n      <td>...</td>\n    </tr>\n    <tr>\n      <th>26960</th>\n      <td>4l_HuMMgyo4</td>\n      <td>2012-06-12T14:41:51Z</td>\n      <td>27921.0</td>\n      <td>0.0</td>\n      <td>38.0</td>\n      <td>False</td>\n      <td>PT1M40S</td>\n      <td>2</td>\n    </tr>\n    <tr>\n      <th>26961</th>\n      <td>RcYtzUVR6is</td>\n      <td>2012-06-12T08:10:49Z</td>\n      <td>9561.0</td>\n      <td>0.0</td>\n      <td>22.0</td>\n      <td>False</td>\n      <td>PT1M22S</td>\n      <td>2</td>\n    </tr>\n    <tr>\n      <th>26962</th>\n      <td>bygSHVeH_Zc</td>\n      <td>2012-06-12T06:18:53Z</td>\n      <td>116046.0</td>\n      <td>52.0</td>\n      <td>266.0</td>\n      <td>False</td>\n      <td>PT3M24S</td>\n      <td>2</td>\n    </tr>\n    <tr>\n      <th>26963</th>\n      <td>oql8TymoDXM</td>\n      <td>2012-06-11T07:57:07Z</td>\n      <td>581.0</td>\n      <td>2.0</td>\n      <td>5.0</td>\n      <td>False</td>\n      <td>PT8M48S</td>\n      <td>2</td>\n    </tr>\n    <tr>\n      <th>26964</th>\n      <td>huRBAY4Fys8</td>\n      <td>2012-06-11T07:53:23Z</td>\n      <td>4660.0</td>\n      <td>0.0</td>\n      <td>6.0</td>\n      <td>False</td>\n      <td>PT2M57S</td>\n      <td>2</td>\n    </tr>\n  </tbody>\n</table>\n<p>26964 rows × 8 columns</p>\n</div>"
     },
     "metadata": {},
     "output_type": "display_data"
    }
   ],
   "source": [
    "dane['commentCount'].fillna(0,inplace=True)\n",
    "dane['likeCount'].fillna(-1,inplace=True)\n",
    "dane.tail()\n",
    "display(dane)"
   ],
   "metadata": {
    "collapsed": false
   }
  },
  {
   "cell_type": "code",
   "execution_count": 7,
   "outputs": [
    {
     "name": "stdout",
     "output_type": "stream",
     "text": [
      "<class 'pandas.core.frame.DataFrame'>\n",
      "RangeIndex: 26965 entries, 0 to 26964\n",
      "Data columns (total 8 columns):\n",
      " #   Column        Non-Null Count  Dtype  \n",
      "---  ------        --------------  -----  \n",
      " 0   id            26965 non-null  object \n",
      " 1   publishedAt   26965 non-null  object \n",
      " 2   viewCount     26965 non-null  float64\n",
      " 3   commentCount  26965 non-null  int32  \n",
      " 4   likeCount     26965 non-null  float64\n",
      " 5   madeForKids   26965 non-null  bool   \n",
      " 6   duration      26965 non-null  object \n",
      " 7   categoryId    26965 non-null  int64  \n",
      "dtypes: bool(1), float64(2), int32(1), int64(1), object(3)\n",
      "memory usage: 1.4+ MB\n"
     ]
    }
   ],
   "source": [
    "dane.info()"
   ],
   "metadata": {
    "collapsed": false
   }
  },
  {
   "cell_type": "markdown",
   "source": [
    "zmianna typu na inta"
   ],
   "metadata": {
    "collapsed": false
   }
  },
  {
   "cell_type": "code",
   "execution_count": 8,
   "outputs": [
    {
     "name": "stdout",
     "output_type": "stream",
     "text": [
      "<class 'pandas.core.frame.DataFrame'>\n",
      "RangeIndex: 26965 entries, 0 to 26964\n",
      "Data columns (total 8 columns):\n",
      " #   Column        Non-Null Count  Dtype \n",
      "---  ------        --------------  ----- \n",
      " 0   id            26965 non-null  object\n",
      " 1   publishedAt   26965 non-null  object\n",
      " 2   viewCount     26965 non-null  int32 \n",
      " 3   commentCount  26965 non-null  int32 \n",
      " 4   likeCount     26965 non-null  int32 \n",
      " 5   madeForKids   26965 non-null  bool  \n",
      " 6   duration      26965 non-null  object\n",
      " 7   categoryId    26965 non-null  int64 \n",
      "dtypes: bool(1), int32(3), int64(1), object(3)\n",
      "memory usage: 1.2+ MB\n"
     ]
    }
   ],
   "source": [
    "dane['commentCount'] = dane['commentCount'].astype(int)\n",
    "dane['viewCount'] = dane['viewCount'].astype(int)\n",
    "dane['likeCount'] = dane['likeCount'].astype(int)\n",
    "dane.info()"
   ],
   "metadata": {
    "collapsed": false
   }
  },
  {
   "cell_type": "code",
   "execution_count": 9,
   "outputs": [
    {
     "name": "stdout",
     "output_type": "stream",
     "text": [
      "Kolumna 'viewCount' nie zawiera brakujących wartości.\n"
     ]
    }
   ],
   "source": [
    "if dane['duration'].isna().any():\n",
    "    print(\"Kolumna 'viewCount' zawiera brakujące wartości.\")\n",
    "else:\n",
    "    print(\"Kolumna 'viewCount' nie zawiera brakujących wartości.\")"
   ],
   "metadata": {
    "collapsed": false
   }
  },
  {
   "cell_type": "markdown",
   "source": [
    "zmiana isodate na sekundy"
   ],
   "metadata": {
    "collapsed": false
   }
  },
  {
   "cell_type": "code",
   "execution_count": 10,
   "outputs": [
    {
     "data": {
      "text/plain": "                id           publishedAt  viewCount  commentCount  likeCount   \n0      WBniggluAe8  2023-05-14T16:08:26Z    1954852          4022     134012  \\\n1      wycmfVWKWlw  2023-04-29T00:42:11Z    2490816          4463     187305   \n2      mNHgVZPlh5g  2023-03-31T22:46:42Z    2206284          4406     141393   \n3      XdwaASKJGxo  2023-03-14T16:00:30Z    2735952          5849     127953   \n4      BEXqDQ6X5hM  2023-03-10T18:00:08Z    2705155          3978     139607   \n...            ...                   ...        ...           ...        ...   \n26960  4l_HuMMgyo4  2012-06-12T14:41:51Z      27921             0         38   \n26961  RcYtzUVR6is  2012-06-12T08:10:49Z       9561             0         22   \n26962  bygSHVeH_Zc  2012-06-12T06:18:53Z     116046            52        266   \n26963  oql8TymoDXM  2012-06-11T07:57:07Z        581             2          5   \n26964  huRBAY4Fys8  2012-06-11T07:53:23Z       4660             0          6   \n\n       madeForKids  duration  categoryId  duration_seconds  \n0            False  PT15M49S          24               949  \n1            False  PT14M48S          24               888  \n2            False   PT9M53S          24               593  \n3            False  PT1H3M3S          24              3783  \n4            False  PT18M33S          24              1113  \n...            ...       ...         ...               ...  \n26960        False   PT1M40S           2               100  \n26961        False   PT1M22S           2                82  \n26962        False   PT3M24S           2               204  \n26963        False   PT8M48S           2               528  \n26964        False   PT2M57S           2               177  \n\n[26965 rows x 9 columns]",
      "text/html": "<div>\n<style scoped>\n    .dataframe tbody tr th:only-of-type {\n        vertical-align: middle;\n    }\n\n    .dataframe tbody tr th {\n        vertical-align: top;\n    }\n\n    .dataframe thead th {\n        text-align: right;\n    }\n</style>\n<table border=\"1\" class=\"dataframe\">\n  <thead>\n    <tr style=\"text-align: right;\">\n      <th></th>\n      <th>id</th>\n      <th>publishedAt</th>\n      <th>viewCount</th>\n      <th>commentCount</th>\n      <th>likeCount</th>\n      <th>madeForKids</th>\n      <th>duration</th>\n      <th>categoryId</th>\n      <th>duration_seconds</th>\n    </tr>\n  </thead>\n  <tbody>\n    <tr>\n      <th>0</th>\n      <td>WBniggluAe8</td>\n      <td>2023-05-14T16:08:26Z</td>\n      <td>1954852</td>\n      <td>4022</td>\n      <td>134012</td>\n      <td>False</td>\n      <td>PT15M49S</td>\n      <td>24</td>\n      <td>949</td>\n    </tr>\n    <tr>\n      <th>1</th>\n      <td>wycmfVWKWlw</td>\n      <td>2023-04-29T00:42:11Z</td>\n      <td>2490816</td>\n      <td>4463</td>\n      <td>187305</td>\n      <td>False</td>\n      <td>PT14M48S</td>\n      <td>24</td>\n      <td>888</td>\n    </tr>\n    <tr>\n      <th>2</th>\n      <td>mNHgVZPlh5g</td>\n      <td>2023-03-31T22:46:42Z</td>\n      <td>2206284</td>\n      <td>4406</td>\n      <td>141393</td>\n      <td>False</td>\n      <td>PT9M53S</td>\n      <td>24</td>\n      <td>593</td>\n    </tr>\n    <tr>\n      <th>3</th>\n      <td>XdwaASKJGxo</td>\n      <td>2023-03-14T16:00:30Z</td>\n      <td>2735952</td>\n      <td>5849</td>\n      <td>127953</td>\n      <td>False</td>\n      <td>PT1H3M3S</td>\n      <td>24</td>\n      <td>3783</td>\n    </tr>\n    <tr>\n      <th>4</th>\n      <td>BEXqDQ6X5hM</td>\n      <td>2023-03-10T18:00:08Z</td>\n      <td>2705155</td>\n      <td>3978</td>\n      <td>139607</td>\n      <td>False</td>\n      <td>PT18M33S</td>\n      <td>24</td>\n      <td>1113</td>\n    </tr>\n    <tr>\n      <th>...</th>\n      <td>...</td>\n      <td>...</td>\n      <td>...</td>\n      <td>...</td>\n      <td>...</td>\n      <td>...</td>\n      <td>...</td>\n      <td>...</td>\n      <td>...</td>\n    </tr>\n    <tr>\n      <th>26960</th>\n      <td>4l_HuMMgyo4</td>\n      <td>2012-06-12T14:41:51Z</td>\n      <td>27921</td>\n      <td>0</td>\n      <td>38</td>\n      <td>False</td>\n      <td>PT1M40S</td>\n      <td>2</td>\n      <td>100</td>\n    </tr>\n    <tr>\n      <th>26961</th>\n      <td>RcYtzUVR6is</td>\n      <td>2012-06-12T08:10:49Z</td>\n      <td>9561</td>\n      <td>0</td>\n      <td>22</td>\n      <td>False</td>\n      <td>PT1M22S</td>\n      <td>2</td>\n      <td>82</td>\n    </tr>\n    <tr>\n      <th>26962</th>\n      <td>bygSHVeH_Zc</td>\n      <td>2012-06-12T06:18:53Z</td>\n      <td>116046</td>\n      <td>52</td>\n      <td>266</td>\n      <td>False</td>\n      <td>PT3M24S</td>\n      <td>2</td>\n      <td>204</td>\n    </tr>\n    <tr>\n      <th>26963</th>\n      <td>oql8TymoDXM</td>\n      <td>2012-06-11T07:57:07Z</td>\n      <td>581</td>\n      <td>2</td>\n      <td>5</td>\n      <td>False</td>\n      <td>PT8M48S</td>\n      <td>2</td>\n      <td>528</td>\n    </tr>\n    <tr>\n      <th>26964</th>\n      <td>huRBAY4Fys8</td>\n      <td>2012-06-11T07:53:23Z</td>\n      <td>4660</td>\n      <td>0</td>\n      <td>6</td>\n      <td>False</td>\n      <td>PT2M57S</td>\n      <td>2</td>\n      <td>177</td>\n    </tr>\n  </tbody>\n</table>\n<p>26965 rows × 9 columns</p>\n</div>"
     },
     "metadata": {},
     "output_type": "display_data"
    }
   ],
   "source": [
    "dane['duration_seconds'] = dane['duration'].apply(lambda x: isodate.parse_duration(x).total_seconds())\n",
    "dane['duration_seconds'] = dane['duration_seconds'].astype(int)\n",
    "dane.tail()\n",
    "display(dane)"
   ],
   "metadata": {
    "collapsed": false
   }
  },
  {
   "cell_type": "markdown",
   "source": [
    "zmiana formatu publishedAt na datatime"
   ],
   "metadata": {
    "collapsed": false
   }
  },
  {
   "cell_type": "code",
   "execution_count": 12,
   "outputs": [
    {
     "data": {
      "text/plain": "                id               publishedAt  viewCount  commentCount   \n0      WBniggluAe8 2023-05-14 16:08:26+00:00    1954852          4022  \\\n1      wycmfVWKWlw 2023-04-29 00:42:11+00:00    2490816          4463   \n2      mNHgVZPlh5g 2023-03-31 22:46:42+00:00    2206284          4406   \n3      XdwaASKJGxo 2023-03-14 16:00:30+00:00    2735952          5849   \n4      BEXqDQ6X5hM 2023-03-10 18:00:08+00:00    2705155          3978   \n...            ...                       ...        ...           ...   \n26960  4l_HuMMgyo4 2012-06-12 14:41:51+00:00      27921             0   \n26961  RcYtzUVR6is 2012-06-12 08:10:49+00:00       9561             0   \n26962  bygSHVeH_Zc 2012-06-12 06:18:53+00:00     116046            52   \n26963  oql8TymoDXM 2012-06-11 07:57:07+00:00        581             2   \n26964  huRBAY4Fys8 2012-06-11 07:53:23+00:00       4660             0   \n\n       likeCount  madeForKids  duration  categoryId  duration_seconds  \n0         134012        False  PT15M49S          24               949  \n1         187305        False  PT14M48S          24               888  \n2         141393        False   PT9M53S          24               593  \n3         127953        False  PT1H3M3S          24              3783  \n4         139607        False  PT18M33S          24              1113  \n...          ...          ...       ...         ...               ...  \n26960         38        False   PT1M40S           2               100  \n26961         22        False   PT1M22S           2                82  \n26962        266        False   PT3M24S           2               204  \n26963          5        False   PT8M48S           2               528  \n26964          6        False   PT2M57S           2               177  \n\n[26965 rows x 9 columns]",
      "text/html": "<div>\n<style scoped>\n    .dataframe tbody tr th:only-of-type {\n        vertical-align: middle;\n    }\n\n    .dataframe tbody tr th {\n        vertical-align: top;\n    }\n\n    .dataframe thead th {\n        text-align: right;\n    }\n</style>\n<table border=\"1\" class=\"dataframe\">\n  <thead>\n    <tr style=\"text-align: right;\">\n      <th></th>\n      <th>id</th>\n      <th>publishedAt</th>\n      <th>viewCount</th>\n      <th>commentCount</th>\n      <th>likeCount</th>\n      <th>madeForKids</th>\n      <th>duration</th>\n      <th>categoryId</th>\n      <th>duration_seconds</th>\n    </tr>\n  </thead>\n  <tbody>\n    <tr>\n      <th>0</th>\n      <td>WBniggluAe8</td>\n      <td>2023-05-14 16:08:26+00:00</td>\n      <td>1954852</td>\n      <td>4022</td>\n      <td>134012</td>\n      <td>False</td>\n      <td>PT15M49S</td>\n      <td>24</td>\n      <td>949</td>\n    </tr>\n    <tr>\n      <th>1</th>\n      <td>wycmfVWKWlw</td>\n      <td>2023-04-29 00:42:11+00:00</td>\n      <td>2490816</td>\n      <td>4463</td>\n      <td>187305</td>\n      <td>False</td>\n      <td>PT14M48S</td>\n      <td>24</td>\n      <td>888</td>\n    </tr>\n    <tr>\n      <th>2</th>\n      <td>mNHgVZPlh5g</td>\n      <td>2023-03-31 22:46:42+00:00</td>\n      <td>2206284</td>\n      <td>4406</td>\n      <td>141393</td>\n      <td>False</td>\n      <td>PT9M53S</td>\n      <td>24</td>\n      <td>593</td>\n    </tr>\n    <tr>\n      <th>3</th>\n      <td>XdwaASKJGxo</td>\n      <td>2023-03-14 16:00:30+00:00</td>\n      <td>2735952</td>\n      <td>5849</td>\n      <td>127953</td>\n      <td>False</td>\n      <td>PT1H3M3S</td>\n      <td>24</td>\n      <td>3783</td>\n    </tr>\n    <tr>\n      <th>4</th>\n      <td>BEXqDQ6X5hM</td>\n      <td>2023-03-10 18:00:08+00:00</td>\n      <td>2705155</td>\n      <td>3978</td>\n      <td>139607</td>\n      <td>False</td>\n      <td>PT18M33S</td>\n      <td>24</td>\n      <td>1113</td>\n    </tr>\n    <tr>\n      <th>...</th>\n      <td>...</td>\n      <td>...</td>\n      <td>...</td>\n      <td>...</td>\n      <td>...</td>\n      <td>...</td>\n      <td>...</td>\n      <td>...</td>\n      <td>...</td>\n    </tr>\n    <tr>\n      <th>26960</th>\n      <td>4l_HuMMgyo4</td>\n      <td>2012-06-12 14:41:51+00:00</td>\n      <td>27921</td>\n      <td>0</td>\n      <td>38</td>\n      <td>False</td>\n      <td>PT1M40S</td>\n      <td>2</td>\n      <td>100</td>\n    </tr>\n    <tr>\n      <th>26961</th>\n      <td>RcYtzUVR6is</td>\n      <td>2012-06-12 08:10:49+00:00</td>\n      <td>9561</td>\n      <td>0</td>\n      <td>22</td>\n      <td>False</td>\n      <td>PT1M22S</td>\n      <td>2</td>\n      <td>82</td>\n    </tr>\n    <tr>\n      <th>26962</th>\n      <td>bygSHVeH_Zc</td>\n      <td>2012-06-12 06:18:53+00:00</td>\n      <td>116046</td>\n      <td>52</td>\n      <td>266</td>\n      <td>False</td>\n      <td>PT3M24S</td>\n      <td>2</td>\n      <td>204</td>\n    </tr>\n    <tr>\n      <th>26963</th>\n      <td>oql8TymoDXM</td>\n      <td>2012-06-11 07:57:07+00:00</td>\n      <td>581</td>\n      <td>2</td>\n      <td>5</td>\n      <td>False</td>\n      <td>PT8M48S</td>\n      <td>2</td>\n      <td>528</td>\n    </tr>\n    <tr>\n      <th>26964</th>\n      <td>huRBAY4Fys8</td>\n      <td>2012-06-11 07:53:23+00:00</td>\n      <td>4660</td>\n      <td>0</td>\n      <td>6</td>\n      <td>False</td>\n      <td>PT2M57S</td>\n      <td>2</td>\n      <td>177</td>\n    </tr>\n  </tbody>\n</table>\n<p>26965 rows × 9 columns</p>\n</div>"
     },
     "metadata": {},
     "output_type": "display_data"
    }
   ],
   "source": [
    "dane['publishedAt'] = pd.to_datetime(dane['publishedAt'])\n",
    "dane.tail()\n",
    "display(dane)"
   ],
   "metadata": {
    "collapsed": false
   }
  },
  {
   "cell_type": "markdown",
   "source": [
    "ujednolicenie stref czasowych oraz uzupełnieine brakujących"
   ],
   "metadata": {
    "collapsed": false
   }
  },
  {
   "cell_type": "code",
   "execution_count": 14,
   "outputs": [
    {
     "data": {
      "text/plain": "                id               publishedAt  viewCount  commentCount   \n0      WBniggluAe8 2023-05-14 16:08:26+00:00    1954852          4022  \\\n1      wycmfVWKWlw 2023-04-29 00:42:11+00:00    2490816          4463   \n2      mNHgVZPlh5g 2023-03-31 22:46:42+00:00    2206284          4406   \n3      XdwaASKJGxo 2023-03-14 16:00:30+00:00    2735952          5849   \n4      BEXqDQ6X5hM 2023-03-10 18:00:08+00:00    2705155          3978   \n...            ...                       ...        ...           ...   \n26960  4l_HuMMgyo4 2012-06-12 14:41:51+00:00      27921             0   \n26961  RcYtzUVR6is 2012-06-12 08:10:49+00:00       9561             0   \n26962  bygSHVeH_Zc 2012-06-12 06:18:53+00:00     116046            52   \n26963  oql8TymoDXM 2012-06-11 07:57:07+00:00        581             2   \n26964  huRBAY4Fys8 2012-06-11 07:53:23+00:00       4660             0   \n\n       likeCount  madeForKids  duration  categoryId  duration_seconds  \n0         134012        False  PT15M49S          24               949  \n1         187305        False  PT14M48S          24               888  \n2         141393        False   PT9M53S          24               593  \n3         127953        False  PT1H3M3S          24              3783  \n4         139607        False  PT18M33S          24              1113  \n...          ...          ...       ...         ...               ...  \n26960         38        False   PT1M40S           2               100  \n26961         22        False   PT1M22S           2                82  \n26962        266        False   PT3M24S           2               204  \n26963          5        False   PT8M48S           2               528  \n26964          6        False   PT2M57S           2               177  \n\n[26965 rows x 9 columns]",
      "text/html": "<div>\n<style scoped>\n    .dataframe tbody tr th:only-of-type {\n        vertical-align: middle;\n    }\n\n    .dataframe tbody tr th {\n        vertical-align: top;\n    }\n\n    .dataframe thead th {\n        text-align: right;\n    }\n</style>\n<table border=\"1\" class=\"dataframe\">\n  <thead>\n    <tr style=\"text-align: right;\">\n      <th></th>\n      <th>id</th>\n      <th>publishedAt</th>\n      <th>viewCount</th>\n      <th>commentCount</th>\n      <th>likeCount</th>\n      <th>madeForKids</th>\n      <th>duration</th>\n      <th>categoryId</th>\n      <th>duration_seconds</th>\n    </tr>\n  </thead>\n  <tbody>\n    <tr>\n      <th>0</th>\n      <td>WBniggluAe8</td>\n      <td>2023-05-14 16:08:26+00:00</td>\n      <td>1954852</td>\n      <td>4022</td>\n      <td>134012</td>\n      <td>False</td>\n      <td>PT15M49S</td>\n      <td>24</td>\n      <td>949</td>\n    </tr>\n    <tr>\n      <th>1</th>\n      <td>wycmfVWKWlw</td>\n      <td>2023-04-29 00:42:11+00:00</td>\n      <td>2490816</td>\n      <td>4463</td>\n      <td>187305</td>\n      <td>False</td>\n      <td>PT14M48S</td>\n      <td>24</td>\n      <td>888</td>\n    </tr>\n    <tr>\n      <th>2</th>\n      <td>mNHgVZPlh5g</td>\n      <td>2023-03-31 22:46:42+00:00</td>\n      <td>2206284</td>\n      <td>4406</td>\n      <td>141393</td>\n      <td>False</td>\n      <td>PT9M53S</td>\n      <td>24</td>\n      <td>593</td>\n    </tr>\n    <tr>\n      <th>3</th>\n      <td>XdwaASKJGxo</td>\n      <td>2023-03-14 16:00:30+00:00</td>\n      <td>2735952</td>\n      <td>5849</td>\n      <td>127953</td>\n      <td>False</td>\n      <td>PT1H3M3S</td>\n      <td>24</td>\n      <td>3783</td>\n    </tr>\n    <tr>\n      <th>4</th>\n      <td>BEXqDQ6X5hM</td>\n      <td>2023-03-10 18:00:08+00:00</td>\n      <td>2705155</td>\n      <td>3978</td>\n      <td>139607</td>\n      <td>False</td>\n      <td>PT18M33S</td>\n      <td>24</td>\n      <td>1113</td>\n    </tr>\n    <tr>\n      <th>...</th>\n      <td>...</td>\n      <td>...</td>\n      <td>...</td>\n      <td>...</td>\n      <td>...</td>\n      <td>...</td>\n      <td>...</td>\n      <td>...</td>\n      <td>...</td>\n    </tr>\n    <tr>\n      <th>26960</th>\n      <td>4l_HuMMgyo4</td>\n      <td>2012-06-12 14:41:51+00:00</td>\n      <td>27921</td>\n      <td>0</td>\n      <td>38</td>\n      <td>False</td>\n      <td>PT1M40S</td>\n      <td>2</td>\n      <td>100</td>\n    </tr>\n    <tr>\n      <th>26961</th>\n      <td>RcYtzUVR6is</td>\n      <td>2012-06-12 08:10:49+00:00</td>\n      <td>9561</td>\n      <td>0</td>\n      <td>22</td>\n      <td>False</td>\n      <td>PT1M22S</td>\n      <td>2</td>\n      <td>82</td>\n    </tr>\n    <tr>\n      <th>26962</th>\n      <td>bygSHVeH_Zc</td>\n      <td>2012-06-12 06:18:53+00:00</td>\n      <td>116046</td>\n      <td>52</td>\n      <td>266</td>\n      <td>False</td>\n      <td>PT3M24S</td>\n      <td>2</td>\n      <td>204</td>\n    </tr>\n    <tr>\n      <th>26963</th>\n      <td>oql8TymoDXM</td>\n      <td>2012-06-11 07:57:07+00:00</td>\n      <td>581</td>\n      <td>2</td>\n      <td>5</td>\n      <td>False</td>\n      <td>PT8M48S</td>\n      <td>2</td>\n      <td>528</td>\n    </tr>\n    <tr>\n      <th>26964</th>\n      <td>huRBAY4Fys8</td>\n      <td>2012-06-11 07:53:23+00:00</td>\n      <td>4660</td>\n      <td>0</td>\n      <td>6</td>\n      <td>False</td>\n      <td>PT2M57S</td>\n      <td>2</td>\n      <td>177</td>\n    </tr>\n  </tbody>\n</table>\n<p>26965 rows × 9 columns</p>\n</div>"
     },
     "metadata": {},
     "output_type": "display_data"
    }
   ],
   "source": [
    "default_timezone = pytz.timezone('Europe/Warsaw')\n",
    "\n",
    "for i, row in dane.iterrows():\n",
    "    if row['publishedAt'].tzinfo is None:\n",
    "        dane.at[i, 'publishedAt'] = default_timezone.localize(row['publishedAt'])\n",
    "\n",
    "dane.tail()\n",
    "display(dane)"
   ],
   "metadata": {
    "collapsed": false
   }
  },
  {
   "cell_type": "markdown",
   "source": [
    "zmiana daty na liczbę dni od 01.01.2012"
   ],
   "metadata": {
    "collapsed": false
   }
  },
  {
   "cell_type": "code",
   "execution_count": 15,
   "outputs": [
    {
     "data": {
      "text/plain": "                id               publishedAt  viewCount  commentCount   \n0      WBniggluAe8 2023-05-14 16:08:26+00:00    1954852          4022  \\\n1      wycmfVWKWlw 2023-04-29 00:42:11+00:00    2490816          4463   \n2      mNHgVZPlh5g 2023-03-31 22:46:42+00:00    2206284          4406   \n3      XdwaASKJGxo 2023-03-14 16:00:30+00:00    2735952          5849   \n4      BEXqDQ6X5hM 2023-03-10 18:00:08+00:00    2705155          3978   \n...            ...                       ...        ...           ...   \n26960  4l_HuMMgyo4 2012-06-12 14:41:51+00:00      27921             0   \n26961  RcYtzUVR6is 2012-06-12 08:10:49+00:00       9561             0   \n26962  bygSHVeH_Zc 2012-06-12 06:18:53+00:00     116046            52   \n26963  oql8TymoDXM 2012-06-11 07:57:07+00:00        581             2   \n26964  huRBAY4Fys8 2012-06-11 07:53:23+00:00       4660             0   \n\n       likeCount  madeForKids  duration  categoryId  duration_seconds   \n0         134012        False  PT15M49S          24               949  \\\n1         187305        False  PT14M48S          24               888   \n2         141393        False   PT9M53S          24               593   \n3         127953        False  PT1H3M3S          24              3783   \n4         139607        False  PT18M33S          24              1113   \n...          ...          ...       ...         ...               ...   \n26960         38        False   PT1M40S           2               100   \n26961         22        False   PT1M22S           2                82   \n26962        266        False   PT3M24S           2               204   \n26963          5        False   PT8M48S           2               528   \n26964          6        False   PT2M57S           2               177   \n\n       days_since_2012  \n0                 4151  \n1                 4136  \n2                 4107  \n3                 4090  \n4                 4086  \n...                ...  \n26960              163  \n26961              163  \n26962              163  \n26963              162  \n26964              162  \n\n[26965 rows x 10 columns]",
      "text/html": "<div>\n<style scoped>\n    .dataframe tbody tr th:only-of-type {\n        vertical-align: middle;\n    }\n\n    .dataframe tbody tr th {\n        vertical-align: top;\n    }\n\n    .dataframe thead th {\n        text-align: right;\n    }\n</style>\n<table border=\"1\" class=\"dataframe\">\n  <thead>\n    <tr style=\"text-align: right;\">\n      <th></th>\n      <th>id</th>\n      <th>publishedAt</th>\n      <th>viewCount</th>\n      <th>commentCount</th>\n      <th>likeCount</th>\n      <th>madeForKids</th>\n      <th>duration</th>\n      <th>categoryId</th>\n      <th>duration_seconds</th>\n      <th>days_since_2012</th>\n    </tr>\n  </thead>\n  <tbody>\n    <tr>\n      <th>0</th>\n      <td>WBniggluAe8</td>\n      <td>2023-05-14 16:08:26+00:00</td>\n      <td>1954852</td>\n      <td>4022</td>\n      <td>134012</td>\n      <td>False</td>\n      <td>PT15M49S</td>\n      <td>24</td>\n      <td>949</td>\n      <td>4151</td>\n    </tr>\n    <tr>\n      <th>1</th>\n      <td>wycmfVWKWlw</td>\n      <td>2023-04-29 00:42:11+00:00</td>\n      <td>2490816</td>\n      <td>4463</td>\n      <td>187305</td>\n      <td>False</td>\n      <td>PT14M48S</td>\n      <td>24</td>\n      <td>888</td>\n      <td>4136</td>\n    </tr>\n    <tr>\n      <th>2</th>\n      <td>mNHgVZPlh5g</td>\n      <td>2023-03-31 22:46:42+00:00</td>\n      <td>2206284</td>\n      <td>4406</td>\n      <td>141393</td>\n      <td>False</td>\n      <td>PT9M53S</td>\n      <td>24</td>\n      <td>593</td>\n      <td>4107</td>\n    </tr>\n    <tr>\n      <th>3</th>\n      <td>XdwaASKJGxo</td>\n      <td>2023-03-14 16:00:30+00:00</td>\n      <td>2735952</td>\n      <td>5849</td>\n      <td>127953</td>\n      <td>False</td>\n      <td>PT1H3M3S</td>\n      <td>24</td>\n      <td>3783</td>\n      <td>4090</td>\n    </tr>\n    <tr>\n      <th>4</th>\n      <td>BEXqDQ6X5hM</td>\n      <td>2023-03-10 18:00:08+00:00</td>\n      <td>2705155</td>\n      <td>3978</td>\n      <td>139607</td>\n      <td>False</td>\n      <td>PT18M33S</td>\n      <td>24</td>\n      <td>1113</td>\n      <td>4086</td>\n    </tr>\n    <tr>\n      <th>...</th>\n      <td>...</td>\n      <td>...</td>\n      <td>...</td>\n      <td>...</td>\n      <td>...</td>\n      <td>...</td>\n      <td>...</td>\n      <td>...</td>\n      <td>...</td>\n      <td>...</td>\n    </tr>\n    <tr>\n      <th>26960</th>\n      <td>4l_HuMMgyo4</td>\n      <td>2012-06-12 14:41:51+00:00</td>\n      <td>27921</td>\n      <td>0</td>\n      <td>38</td>\n      <td>False</td>\n      <td>PT1M40S</td>\n      <td>2</td>\n      <td>100</td>\n      <td>163</td>\n    </tr>\n    <tr>\n      <th>26961</th>\n      <td>RcYtzUVR6is</td>\n      <td>2012-06-12 08:10:49+00:00</td>\n      <td>9561</td>\n      <td>0</td>\n      <td>22</td>\n      <td>False</td>\n      <td>PT1M22S</td>\n      <td>2</td>\n      <td>82</td>\n      <td>163</td>\n    </tr>\n    <tr>\n      <th>26962</th>\n      <td>bygSHVeH_Zc</td>\n      <td>2012-06-12 06:18:53+00:00</td>\n      <td>116046</td>\n      <td>52</td>\n      <td>266</td>\n      <td>False</td>\n      <td>PT3M24S</td>\n      <td>2</td>\n      <td>204</td>\n      <td>163</td>\n    </tr>\n    <tr>\n      <th>26963</th>\n      <td>oql8TymoDXM</td>\n      <td>2012-06-11 07:57:07+00:00</td>\n      <td>581</td>\n      <td>2</td>\n      <td>5</td>\n      <td>False</td>\n      <td>PT8M48S</td>\n      <td>2</td>\n      <td>528</td>\n      <td>162</td>\n    </tr>\n    <tr>\n      <th>26964</th>\n      <td>huRBAY4Fys8</td>\n      <td>2012-06-11 07:53:23+00:00</td>\n      <td>4660</td>\n      <td>0</td>\n      <td>6</td>\n      <td>False</td>\n      <td>PT2M57S</td>\n      <td>2</td>\n      <td>177</td>\n      <td>162</td>\n    </tr>\n  </tbody>\n</table>\n<p>26965 rows × 10 columns</p>\n</div>"
     },
     "metadata": {},
     "output_type": "display_data"
    }
   ],
   "source": [
    "reference_date = datetime(2012, 1, 1, tzinfo=pytz.UTC)\n",
    "dane['days_since_2012'] = (dane['publishedAt'] - reference_date).dt.days\n",
    "\n",
    "dane.tail()\n",
    "display(dane)"
   ],
   "metadata": {
    "collapsed": false
   }
  },
  {
   "cell_type": "markdown",
   "source": [
    "dodanie kolumny pokazującą czas dodania od północy"
   ],
   "metadata": {
    "collapsed": false
   }
  },
  {
   "cell_type": "code",
   "execution_count": 16,
   "outputs": [
    {
     "data": {
      "text/plain": "                id               publishedAt  viewCount  commentCount   \n0      WBniggluAe8 2023-05-14 16:08:26+00:00    1954852          4022  \\\n1      wycmfVWKWlw 2023-04-29 00:42:11+00:00    2490816          4463   \n2      mNHgVZPlh5g 2023-03-31 22:46:42+00:00    2206284          4406   \n3      XdwaASKJGxo 2023-03-14 16:00:30+00:00    2735952          5849   \n4      BEXqDQ6X5hM 2023-03-10 18:00:08+00:00    2705155          3978   \n...            ...                       ...        ...           ...   \n26960  4l_HuMMgyo4 2012-06-12 14:41:51+00:00      27921             0   \n26961  RcYtzUVR6is 2012-06-12 08:10:49+00:00       9561             0   \n26962  bygSHVeH_Zc 2012-06-12 06:18:53+00:00     116046            52   \n26963  oql8TymoDXM 2012-06-11 07:57:07+00:00        581             2   \n26964  huRBAY4Fys8 2012-06-11 07:53:23+00:00       4660             0   \n\n       likeCount  madeForKids  duration  categoryId  duration_seconds   \n0         134012        False  PT15M49S          24               949  \\\n1         187305        False  PT14M48S          24               888   \n2         141393        False   PT9M53S          24               593   \n3         127953        False  PT1H3M3S          24              3783   \n4         139607        False  PT18M33S          24              1113   \n...          ...          ...       ...         ...               ...   \n26960         38        False   PT1M40S           2               100   \n26961         22        False   PT1M22S           2                82   \n26962        266        False   PT3M24S           2               204   \n26963          5        False   PT8M48S           2               528   \n26964          6        False   PT2M57S           2               177   \n\n       days_since_2012  minutes_since_midnight  \n0                 4151                     968  \n1                 4136                      42  \n2                 4107                    1366  \n3                 4090                     960  \n4                 4086                    1080  \n...                ...                     ...  \n26960              163                     881  \n26961              163                     490  \n26962              163                     378  \n26963              162                     477  \n26964              162                     473  \n\n[26965 rows x 11 columns]",
      "text/html": "<div>\n<style scoped>\n    .dataframe tbody tr th:only-of-type {\n        vertical-align: middle;\n    }\n\n    .dataframe tbody tr th {\n        vertical-align: top;\n    }\n\n    .dataframe thead th {\n        text-align: right;\n    }\n</style>\n<table border=\"1\" class=\"dataframe\">\n  <thead>\n    <tr style=\"text-align: right;\">\n      <th></th>\n      <th>id</th>\n      <th>publishedAt</th>\n      <th>viewCount</th>\n      <th>commentCount</th>\n      <th>likeCount</th>\n      <th>madeForKids</th>\n      <th>duration</th>\n      <th>categoryId</th>\n      <th>duration_seconds</th>\n      <th>days_since_2012</th>\n      <th>minutes_since_midnight</th>\n    </tr>\n  </thead>\n  <tbody>\n    <tr>\n      <th>0</th>\n      <td>WBniggluAe8</td>\n      <td>2023-05-14 16:08:26+00:00</td>\n      <td>1954852</td>\n      <td>4022</td>\n      <td>134012</td>\n      <td>False</td>\n      <td>PT15M49S</td>\n      <td>24</td>\n      <td>949</td>\n      <td>4151</td>\n      <td>968</td>\n    </tr>\n    <tr>\n      <th>1</th>\n      <td>wycmfVWKWlw</td>\n      <td>2023-04-29 00:42:11+00:00</td>\n      <td>2490816</td>\n      <td>4463</td>\n      <td>187305</td>\n      <td>False</td>\n      <td>PT14M48S</td>\n      <td>24</td>\n      <td>888</td>\n      <td>4136</td>\n      <td>42</td>\n    </tr>\n    <tr>\n      <th>2</th>\n      <td>mNHgVZPlh5g</td>\n      <td>2023-03-31 22:46:42+00:00</td>\n      <td>2206284</td>\n      <td>4406</td>\n      <td>141393</td>\n      <td>False</td>\n      <td>PT9M53S</td>\n      <td>24</td>\n      <td>593</td>\n      <td>4107</td>\n      <td>1366</td>\n    </tr>\n    <tr>\n      <th>3</th>\n      <td>XdwaASKJGxo</td>\n      <td>2023-03-14 16:00:30+00:00</td>\n      <td>2735952</td>\n      <td>5849</td>\n      <td>127953</td>\n      <td>False</td>\n      <td>PT1H3M3S</td>\n      <td>24</td>\n      <td>3783</td>\n      <td>4090</td>\n      <td>960</td>\n    </tr>\n    <tr>\n      <th>4</th>\n      <td>BEXqDQ6X5hM</td>\n      <td>2023-03-10 18:00:08+00:00</td>\n      <td>2705155</td>\n      <td>3978</td>\n      <td>139607</td>\n      <td>False</td>\n      <td>PT18M33S</td>\n      <td>24</td>\n      <td>1113</td>\n      <td>4086</td>\n      <td>1080</td>\n    </tr>\n    <tr>\n      <th>...</th>\n      <td>...</td>\n      <td>...</td>\n      <td>...</td>\n      <td>...</td>\n      <td>...</td>\n      <td>...</td>\n      <td>...</td>\n      <td>...</td>\n      <td>...</td>\n      <td>...</td>\n      <td>...</td>\n    </tr>\n    <tr>\n      <th>26960</th>\n      <td>4l_HuMMgyo4</td>\n      <td>2012-06-12 14:41:51+00:00</td>\n      <td>27921</td>\n      <td>0</td>\n      <td>38</td>\n      <td>False</td>\n      <td>PT1M40S</td>\n      <td>2</td>\n      <td>100</td>\n      <td>163</td>\n      <td>881</td>\n    </tr>\n    <tr>\n      <th>26961</th>\n      <td>RcYtzUVR6is</td>\n      <td>2012-06-12 08:10:49+00:00</td>\n      <td>9561</td>\n      <td>0</td>\n      <td>22</td>\n      <td>False</td>\n      <td>PT1M22S</td>\n      <td>2</td>\n      <td>82</td>\n      <td>163</td>\n      <td>490</td>\n    </tr>\n    <tr>\n      <th>26962</th>\n      <td>bygSHVeH_Zc</td>\n      <td>2012-06-12 06:18:53+00:00</td>\n      <td>116046</td>\n      <td>52</td>\n      <td>266</td>\n      <td>False</td>\n      <td>PT3M24S</td>\n      <td>2</td>\n      <td>204</td>\n      <td>163</td>\n      <td>378</td>\n    </tr>\n    <tr>\n      <th>26963</th>\n      <td>oql8TymoDXM</td>\n      <td>2012-06-11 07:57:07+00:00</td>\n      <td>581</td>\n      <td>2</td>\n      <td>5</td>\n      <td>False</td>\n      <td>PT8M48S</td>\n      <td>2</td>\n      <td>528</td>\n      <td>162</td>\n      <td>477</td>\n    </tr>\n    <tr>\n      <th>26964</th>\n      <td>huRBAY4Fys8</td>\n      <td>2012-06-11 07:53:23+00:00</td>\n      <td>4660</td>\n      <td>0</td>\n      <td>6</td>\n      <td>False</td>\n      <td>PT2M57S</td>\n      <td>2</td>\n      <td>177</td>\n      <td>162</td>\n      <td>473</td>\n    </tr>\n  </tbody>\n</table>\n<p>26965 rows × 11 columns</p>\n</div>"
     },
     "metadata": {},
     "output_type": "display_data"
    }
   ],
   "source": [
    "dane['minutes_since_midnight'] = dane['publishedAt'].dt.hour * 60 + dane['publishedAt'].dt.minute\n",
    "\n",
    "dane.tail()\n",
    "display(dane)"
   ],
   "metadata": {
    "collapsed": false
   }
  },
  {
   "cell_type": "markdown",
   "source": [
    "zmiana likeCount(wartość -1) na średnią ilości w granicach ±5% z viewCount dla danej kategorii"
   ],
   "metadata": {
    "collapsed": false
   }
  },
  {
   "cell_type": "code",
   "execution_count": 19,
   "outputs": [
    {
     "data": {
      "text/plain": "                id               publishedAt  viewCount  commentCount   \n0      WBniggluAe8 2023-05-14 16:08:26+00:00    1954852          4022  \\\n1      wycmfVWKWlw 2023-04-29 00:42:11+00:00    2490816          4463   \n2      mNHgVZPlh5g 2023-03-31 22:46:42+00:00    2206284          4406   \n3      XdwaASKJGxo 2023-03-14 16:00:30+00:00    2735952          5849   \n4      BEXqDQ6X5hM 2023-03-10 18:00:08+00:00    2705155          3978   \n...            ...                       ...        ...           ...   \n26960  4l_HuMMgyo4 2012-06-12 14:41:51+00:00      27921             0   \n26961  RcYtzUVR6is 2012-06-12 08:10:49+00:00       9561             0   \n26962  bygSHVeH_Zc 2012-06-12 06:18:53+00:00     116046            52   \n26963  oql8TymoDXM 2012-06-11 07:57:07+00:00        581             2   \n26964  huRBAY4Fys8 2012-06-11 07:53:23+00:00       4660             0   \n\n       likeCount  madeForKids  duration  categoryId  duration_seconds   \n0       134012.0        False  PT15M49S          24               949  \\\n1       187305.0        False  PT14M48S          24               888   \n2       141393.0        False   PT9M53S          24               593   \n3       127953.0        False  PT1H3M3S          24              3783   \n4       139607.0        False  PT18M33S          24              1113   \n...          ...          ...       ...         ...               ...   \n26960       38.0        False   PT1M40S           2               100   \n26961       22.0        False   PT1M22S           2                82   \n26962      266.0        False   PT3M24S           2               204   \n26963        5.0        False   PT8M48S           2               528   \n26964        6.0        False   PT2M57S           2               177   \n\n       days_since_2012  minutes_since_midnight  \n0                 4151                     968  \n1                 4136                      42  \n2                 4107                    1366  \n3                 4090                     960  \n4                 4086                    1080  \n...                ...                     ...  \n26960              163                     881  \n26961              163                     490  \n26962              163                     378  \n26963              162                     477  \n26964              162                     473  \n\n[26965 rows x 11 columns]",
      "text/html": "<div>\n<style scoped>\n    .dataframe tbody tr th:only-of-type {\n        vertical-align: middle;\n    }\n\n    .dataframe tbody tr th {\n        vertical-align: top;\n    }\n\n    .dataframe thead th {\n        text-align: right;\n    }\n</style>\n<table border=\"1\" class=\"dataframe\">\n  <thead>\n    <tr style=\"text-align: right;\">\n      <th></th>\n      <th>id</th>\n      <th>publishedAt</th>\n      <th>viewCount</th>\n      <th>commentCount</th>\n      <th>likeCount</th>\n      <th>madeForKids</th>\n      <th>duration</th>\n      <th>categoryId</th>\n      <th>duration_seconds</th>\n      <th>days_since_2012</th>\n      <th>minutes_since_midnight</th>\n    </tr>\n  </thead>\n  <tbody>\n    <tr>\n      <th>0</th>\n      <td>WBniggluAe8</td>\n      <td>2023-05-14 16:08:26+00:00</td>\n      <td>1954852</td>\n      <td>4022</td>\n      <td>134012.0</td>\n      <td>False</td>\n      <td>PT15M49S</td>\n      <td>24</td>\n      <td>949</td>\n      <td>4151</td>\n      <td>968</td>\n    </tr>\n    <tr>\n      <th>1</th>\n      <td>wycmfVWKWlw</td>\n      <td>2023-04-29 00:42:11+00:00</td>\n      <td>2490816</td>\n      <td>4463</td>\n      <td>187305.0</td>\n      <td>False</td>\n      <td>PT14M48S</td>\n      <td>24</td>\n      <td>888</td>\n      <td>4136</td>\n      <td>42</td>\n    </tr>\n    <tr>\n      <th>2</th>\n      <td>mNHgVZPlh5g</td>\n      <td>2023-03-31 22:46:42+00:00</td>\n      <td>2206284</td>\n      <td>4406</td>\n      <td>141393.0</td>\n      <td>False</td>\n      <td>PT9M53S</td>\n      <td>24</td>\n      <td>593</td>\n      <td>4107</td>\n      <td>1366</td>\n    </tr>\n    <tr>\n      <th>3</th>\n      <td>XdwaASKJGxo</td>\n      <td>2023-03-14 16:00:30+00:00</td>\n      <td>2735952</td>\n      <td>5849</td>\n      <td>127953.0</td>\n      <td>False</td>\n      <td>PT1H3M3S</td>\n      <td>24</td>\n      <td>3783</td>\n      <td>4090</td>\n      <td>960</td>\n    </tr>\n    <tr>\n      <th>4</th>\n      <td>BEXqDQ6X5hM</td>\n      <td>2023-03-10 18:00:08+00:00</td>\n      <td>2705155</td>\n      <td>3978</td>\n      <td>139607.0</td>\n      <td>False</td>\n      <td>PT18M33S</td>\n      <td>24</td>\n      <td>1113</td>\n      <td>4086</td>\n      <td>1080</td>\n    </tr>\n    <tr>\n      <th>...</th>\n      <td>...</td>\n      <td>...</td>\n      <td>...</td>\n      <td>...</td>\n      <td>...</td>\n      <td>...</td>\n      <td>...</td>\n      <td>...</td>\n      <td>...</td>\n      <td>...</td>\n      <td>...</td>\n    </tr>\n    <tr>\n      <th>26960</th>\n      <td>4l_HuMMgyo4</td>\n      <td>2012-06-12 14:41:51+00:00</td>\n      <td>27921</td>\n      <td>0</td>\n      <td>38.0</td>\n      <td>False</td>\n      <td>PT1M40S</td>\n      <td>2</td>\n      <td>100</td>\n      <td>163</td>\n      <td>881</td>\n    </tr>\n    <tr>\n      <th>26961</th>\n      <td>RcYtzUVR6is</td>\n      <td>2012-06-12 08:10:49+00:00</td>\n      <td>9561</td>\n      <td>0</td>\n      <td>22.0</td>\n      <td>False</td>\n      <td>PT1M22S</td>\n      <td>2</td>\n      <td>82</td>\n      <td>163</td>\n      <td>490</td>\n    </tr>\n    <tr>\n      <th>26962</th>\n      <td>bygSHVeH_Zc</td>\n      <td>2012-06-12 06:18:53+00:00</td>\n      <td>116046</td>\n      <td>52</td>\n      <td>266.0</td>\n      <td>False</td>\n      <td>PT3M24S</td>\n      <td>2</td>\n      <td>204</td>\n      <td>163</td>\n      <td>378</td>\n    </tr>\n    <tr>\n      <th>26963</th>\n      <td>oql8TymoDXM</td>\n      <td>2012-06-11 07:57:07+00:00</td>\n      <td>581</td>\n      <td>2</td>\n      <td>5.0</td>\n      <td>False</td>\n      <td>PT8M48S</td>\n      <td>2</td>\n      <td>528</td>\n      <td>162</td>\n      <td>477</td>\n    </tr>\n    <tr>\n      <th>26964</th>\n      <td>huRBAY4Fys8</td>\n      <td>2012-06-11 07:53:23+00:00</td>\n      <td>4660</td>\n      <td>0</td>\n      <td>6.0</td>\n      <td>False</td>\n      <td>PT2M57S</td>\n      <td>2</td>\n      <td>177</td>\n      <td>162</td>\n      <td>473</td>\n    </tr>\n  </tbody>\n</table>\n<p>26965 rows × 11 columns</p>\n</div>"
     },
     "metadata": {},
     "output_type": "display_data"
    }
   ],
   "source": [
    "grouped_data = dane.groupby('categoryId')\n",
    "\n",
    "# Funkcja do obliczania średniej ilości likeCount(wartość -1) w granicach ±5% z viewCount dla danej kategorii\n",
    "def calculate_mean_likeCount(row):\n",
    "    category_id = row['categoryId']\n",
    "    view_count = row['viewCount']\n",
    "\n",
    "    # Wybór danych dla tej samej kategorii\n",
    "    category_data = grouped_data.get_group(category_id)\n",
    "\n",
    "    # Obliczenie granic ±5%\n",
    "    lower_limit = view_count * 0.95\n",
    "    upper_limit = view_count * 1.05\n",
    "\n",
    "    # Wybór danych z viewCount w granicach ±5%\n",
    "    filtered_data = category_data[(category_data['viewCount'] >= lower_limit) & (category_data['viewCount'] <= upper_limit)]\n",
    "\n",
    "    # Obliczenie średniej ilości likeCount\n",
    "    mean_likeCount = filtered_data['likeCount'].mean()\n",
    "\n",
    "    return mean_likeCount\n",
    "\n",
    "# Zastąpienie wartości -1 w kolumnie likeCount średnią ilością likeCount dla danej kategorii\n",
    "dane['likeCount'] = np.where(dane['likeCount'] == -1, dane.apply(calculate_mean_likeCount, axis=1), dane['likeCount'])\n",
    "\n",
    "dane.tail()\n",
    "display(dane)"
   ],
   "metadata": {
    "collapsed": false
   }
  },
  {
   "cell_type": "markdown",
   "source": [
    "zmiana boola w madeForKids na inta"
   ],
   "metadata": {
    "collapsed": false
   }
  },
  {
   "cell_type": "code",
   "execution_count": 23,
   "outputs": [],
   "source": [
    "dane['madeForKids'] = dane['madeForKids'].astype(int)"
   ],
   "metadata": {
    "collapsed": false
   }
  },
  {
   "cell_type": "markdown",
   "source": [
    "zapisanie wszystkich danych"
   ],
   "metadata": {
    "collapsed": false
   }
  },
  {
   "cell_type": "code",
   "execution_count": 26,
   "outputs": [],
   "source": [
    "dane.to_csv(r'D:\\Studia\\4 semestr\\MSID\\L\\Projekt MSID\\datebase yt\\clear_csv.csv',index=False)"
   ],
   "metadata": {
    "collapsed": false
   }
  },
  {
   "cell_type": "markdown",
   "source": [
    "zapisanie danych"
   ],
   "metadata": {
    "collapsed": false
   }
  },
  {
   "cell_type": "code",
   "execution_count": 22,
   "outputs": [],
   "source": [
    "# del dane_copy['publishedAt']\n",
    "# del dane_copy['duration']\n",
    "# dane.to_csv(r'D:\\Studia\\4 semestr\\MSID\\L\\Projekt MSID\\datebase yt\\youtube_database.csv',index=False)"
   ],
   "metadata": {
    "collapsed": false
   }
  },
  {
   "cell_type": "code",
   "execution_count": null,
   "outputs": [],
   "source": [],
   "metadata": {
    "collapsed": false
   }
  }
 ],
 "metadata": {
  "kernelspec": {
   "display_name": "Python 3",
   "language": "python",
   "name": "python3"
  },
  "language_info": {
   "codemirror_mode": {
    "name": "ipython",
    "version": 2
   },
   "file_extension": ".py",
   "mimetype": "text/x-python",
   "name": "python",
   "nbconvert_exporter": "python",
   "pygments_lexer": "ipython2",
   "version": "2.7.6"
  }
 },
 "nbformat": 4,
 "nbformat_minor": 0
}
